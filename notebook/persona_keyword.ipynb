{
  "nbformat": 4,
  "nbformat_minor": 0,
  "metadata": {
    "colab": {
      "provenance": []
    },
    "kernelspec": {
      "name": "python3",
      "display_name": "Python 3"
    },
    "language_info": {
      "name": "python"
    },
    "accelerator": "GPU",
    "gpuClass": "standard"
  },
  "cells": [
    {
      "cell_type": "code",
      "source": [
        "pip install keybert"
      ],
      "metadata": {
        "colab": {
          "base_uri": "https://localhost:8080/"
        },
        "id": "lAfhVD4_RX2D",
        "outputId": "279bfb8f-e636-47f6-a0d7-8c38c70cc31d"
      },
      "execution_count": 1,
      "outputs": [
        {
          "output_type": "stream",
          "name": "stdout",
          "text": [
            "Looking in indexes: https://pypi.org/simple, https://us-python.pkg.dev/colab-wheels/public/simple/\n",
            "Collecting keybert\n",
            "  Downloading keybert-0.7.0.tar.gz (21 kB)\n",
            "Collecting sentence-transformers>=0.3.8\n",
            "  Downloading sentence-transformers-2.2.2.tar.gz (85 kB)\n",
            "\u001b[K     |████████████████████████████████| 85 kB 4.1 MB/s \n",
            "\u001b[?25hRequirement already satisfied: scikit-learn>=0.22.2 in /usr/local/lib/python3.8/dist-packages (from keybert) (1.0.2)\n",
            "Requirement already satisfied: numpy>=1.18.5 in /usr/local/lib/python3.8/dist-packages (from keybert) (1.21.6)\n",
            "Collecting rich>=10.4.0\n",
            "  Downloading rich-12.6.0-py3-none-any.whl (237 kB)\n",
            "\u001b[K     |████████████████████████████████| 237 kB 57.6 MB/s \n",
            "\u001b[?25hRequirement already satisfied: typing-extensions<5.0,>=4.0.0 in /usr/local/lib/python3.8/dist-packages (from rich>=10.4.0->keybert) (4.4.0)\n",
            "Collecting commonmark<0.10.0,>=0.9.0\n",
            "  Downloading commonmark-0.9.1-py2.py3-none-any.whl (51 kB)\n",
            "\u001b[K     |████████████████████████████████| 51 kB 8.8 MB/s \n",
            "\u001b[?25hRequirement already satisfied: pygments<3.0.0,>=2.6.0 in /usr/local/lib/python3.8/dist-packages (from rich>=10.4.0->keybert) (2.6.1)\n",
            "Requirement already satisfied: scipy>=1.1.0 in /usr/local/lib/python3.8/dist-packages (from scikit-learn>=0.22.2->keybert) (1.7.3)\n",
            "Requirement already satisfied: joblib>=0.11 in /usr/local/lib/python3.8/dist-packages (from scikit-learn>=0.22.2->keybert) (1.2.0)\n",
            "Requirement already satisfied: threadpoolctl>=2.0.0 in /usr/local/lib/python3.8/dist-packages (from scikit-learn>=0.22.2->keybert) (3.1.0)\n",
            "Collecting transformers<5.0.0,>=4.6.0\n",
            "  Downloading transformers-4.25.1-py3-none-any.whl (5.8 MB)\n",
            "\u001b[K     |████████████████████████████████| 5.8 MB 75.8 MB/s \n",
            "\u001b[?25hRequirement already satisfied: tqdm in /usr/local/lib/python3.8/dist-packages (from sentence-transformers>=0.3.8->keybert) (4.64.1)\n",
            "Requirement already satisfied: torch>=1.6.0 in /usr/local/lib/python3.8/dist-packages (from sentence-transformers>=0.3.8->keybert) (1.13.0+cu116)\n",
            "Requirement already satisfied: torchvision in /usr/local/lib/python3.8/dist-packages (from sentence-transformers>=0.3.8->keybert) (0.14.0+cu116)\n",
            "Requirement already satisfied: nltk in /usr/local/lib/python3.8/dist-packages (from sentence-transformers>=0.3.8->keybert) (3.7)\n",
            "Collecting sentencepiece\n",
            "  Downloading sentencepiece-0.1.97-cp38-cp38-manylinux_2_17_x86_64.manylinux2014_x86_64.whl (1.3 MB)\n",
            "\u001b[K     |████████████████████████████████| 1.3 MB 64.9 MB/s \n",
            "\u001b[?25hCollecting huggingface-hub>=0.4.0\n",
            "  Downloading huggingface_hub-0.11.1-py3-none-any.whl (182 kB)\n",
            "\u001b[K     |████████████████████████████████| 182 kB 78.3 MB/s \n",
            "\u001b[?25hRequirement already satisfied: requests in /usr/local/lib/python3.8/dist-packages (from huggingface-hub>=0.4.0->sentence-transformers>=0.3.8->keybert) (2.23.0)\n",
            "Requirement already satisfied: pyyaml>=5.1 in /usr/local/lib/python3.8/dist-packages (from huggingface-hub>=0.4.0->sentence-transformers>=0.3.8->keybert) (6.0)\n",
            "Requirement already satisfied: packaging>=20.9 in /usr/local/lib/python3.8/dist-packages (from huggingface-hub>=0.4.0->sentence-transformers>=0.3.8->keybert) (21.3)\n",
            "Requirement already satisfied: filelock in /usr/local/lib/python3.8/dist-packages (from huggingface-hub>=0.4.0->sentence-transformers>=0.3.8->keybert) (3.8.0)\n",
            "Requirement already satisfied: pyparsing!=3.0.5,>=2.0.2 in /usr/local/lib/python3.8/dist-packages (from packaging>=20.9->huggingface-hub>=0.4.0->sentence-transformers>=0.3.8->keybert) (3.0.9)\n",
            "Collecting tokenizers!=0.11.3,<0.14,>=0.11.1\n",
            "  Downloading tokenizers-0.13.2-cp38-cp38-manylinux_2_17_x86_64.manylinux2014_x86_64.whl (7.6 MB)\n",
            "\u001b[K     |████████████████████████████████| 7.6 MB 71.6 MB/s \n",
            "\u001b[?25hRequirement already satisfied: regex!=2019.12.17 in /usr/local/lib/python3.8/dist-packages (from transformers<5.0.0,>=4.6.0->sentence-transformers>=0.3.8->keybert) (2022.6.2)\n",
            "Requirement already satisfied: click in /usr/local/lib/python3.8/dist-packages (from nltk->sentence-transformers>=0.3.8->keybert) (7.1.2)\n",
            "Requirement already satisfied: idna<3,>=2.5 in /usr/local/lib/python3.8/dist-packages (from requests->huggingface-hub>=0.4.0->sentence-transformers>=0.3.8->keybert) (2.10)\n",
            "Requirement already satisfied: chardet<4,>=3.0.2 in /usr/local/lib/python3.8/dist-packages (from requests->huggingface-hub>=0.4.0->sentence-transformers>=0.3.8->keybert) (3.0.4)\n",
            "Requirement already satisfied: certifi>=2017.4.17 in /usr/local/lib/python3.8/dist-packages (from requests->huggingface-hub>=0.4.0->sentence-transformers>=0.3.8->keybert) (2022.9.24)\n",
            "Requirement already satisfied: urllib3!=1.25.0,!=1.25.1,<1.26,>=1.21.1 in /usr/local/lib/python3.8/dist-packages (from requests->huggingface-hub>=0.4.0->sentence-transformers>=0.3.8->keybert) (1.24.3)\n",
            "Requirement already satisfied: pillow!=8.3.*,>=5.3.0 in /usr/local/lib/python3.8/dist-packages (from torchvision->sentence-transformers>=0.3.8->keybert) (7.1.2)\n",
            "Building wheels for collected packages: keybert, sentence-transformers\n",
            "  Building wheel for keybert (setup.py) ... \u001b[?25l\u001b[?25hdone\n",
            "  Created wheel for keybert: filename=keybert-0.7.0-py3-none-any.whl size=23800 sha256=d41e5514eed532d54a43b8724c5ea2e567f7a0af993f1e2a23ce9de93e2ef06a\n",
            "  Stored in directory: /root/.cache/pip/wheels/6c/bc/8b/a51bee77aec33895e6c8c236144b4cc10875659c4d2c80f070\n",
            "  Building wheel for sentence-transformers (setup.py) ... \u001b[?25l\u001b[?25hdone\n",
            "  Created wheel for sentence-transformers: filename=sentence_transformers-2.2.2-py3-none-any.whl size=125938 sha256=3e852ded435e3f25432cb09b493be67a2fb51074bd2e9066a04464c4510e9a58\n",
            "  Stored in directory: /root/.cache/pip/wheels/5e/6f/8c/d88aec621f3f542d26fac0342bef5e693335d125f4e54aeffe\n",
            "Successfully built keybert sentence-transformers\n",
            "Installing collected packages: tokenizers, huggingface-hub, transformers, sentencepiece, commonmark, sentence-transformers, rich, keybert\n",
            "Successfully installed commonmark-0.9.1 huggingface-hub-0.11.1 keybert-0.7.0 rich-12.6.0 sentence-transformers-2.2.2 sentencepiece-0.1.97 tokenizers-0.13.2 transformers-4.25.1\n"
          ]
        }
      ]
    },
    {
      "cell_type": "code",
      "execution_count": 2,
      "metadata": {
        "colab": {
          "base_uri": "https://localhost:8080/"
        },
        "id": "yvqiJYskaiev",
        "outputId": "fb3d1522-e361-4b7d-fd8e-44e9504913da"
      },
      "outputs": [
        {
          "output_type": "stream",
          "name": "stdout",
          "text": [
            "Mounted at /content/drive\n"
          ]
        }
      ],
      "source": [
        "from google.colab import drive\n",
        "drive.mount('/content/drive')"
      ]
    },
    {
      "cell_type": "code",
      "source": [
        "import os\n",
        "import gc\n",
        "import json\n",
        "import errno\n",
        "import numpy as np\n",
        "import pandas as pd\n",
        "import seaborn as sns\n",
        "import matplotlib.pyplot as plt\n",
        "\n",
        "from os.path import join as pjoin\n",
        "from glob import iglob\n",
        "from shutil import rmtree\n",
        "from tqdm import tqdm"
      ],
      "metadata": {
        "id": "dnBpLNZHw9CI"
      },
      "execution_count": 3,
      "outputs": []
    },
    {
      "cell_type": "markdown",
      "source": [
        "# 데이터 불러오기"
      ],
      "metadata": {
        "id": "sTszbX9AzJIn"
      }
    },
    {
      "cell_type": "code",
      "source": [
        "PATH = \"/content/drive/MyDrive/ChatBot/chat_data/\"\n",
        "\n",
        "train_df = pd.read_parquet(PATH + \"train.parquet\")\n",
        "valid_df = pd.read_parquet(PATH + \"valid.parquet\")\n",
        "test_df = pd.read_parquet(PATH + \"test.parquet\")"
      ],
      "metadata": {
        "id": "I56bf1U8ykSg"
      },
      "execution_count": 4,
      "outputs": []
    },
    {
      "cell_type": "code",
      "source": [
        "data = pd.concat([train_df, valid_df, test_df], ignore_index=True)"
      ],
      "metadata": {
        "id": "ZtpwelYAy99w"
      },
      "execution_count": 5,
      "outputs": []
    },
    {
      "cell_type": "code",
      "source": [
        "train_df"
      ],
      "metadata": {
        "colab": {
          "base_uri": "https://localhost:8080/",
          "height": 641
        },
        "id": "W8Xt3BWnwqvJ",
        "outputId": "6dad4f7a-e76e-4ce3-e545-00399387023e"
      },
      "execution_count": 10,
      "outputs": [
        {
          "output_type": "execute_result",
          "data": {
            "text/plain": [
              "         type    sess_id  speaker_1_id  \\\n",
              "0       train  2-42648-1       30284.0   \n",
              "1       train  2-42648-1       30284.0   \n",
              "2       train  2-42648-1       30284.0   \n",
              "3       train  2-42648-1       30284.0   \n",
              "4       train  2-42648-1       30284.0   \n",
              "...       ...        ...           ...   \n",
              "141184  train  2-17419-2       11285.0   \n",
              "141185  train  2-17419-2       11285.0   \n",
              "141186  train  2-17419-2       11285.0   \n",
              "141187  train  2-17419-2       11285.0   \n",
              "141188  train  2-17419-2       11285.0   \n",
              "\n",
              "                                                    query  speaker_2_id  \\\n",
              "0                                    안녕하세요. 저는 30대 남성입니다.       34716.0   \n",
              "1                반가워요 저는 선박정비원으로 일하고있습니다. 혹시 직업이 어떻게되시나요?       34716.0   \n",
              "2                                 군사학과는 주로 무슨 직업으로 가는건가요?       34716.0   \n",
              "3                     저는 군대 때 운전병으로 나왔는데 운전 보직 좋은 것 같아요.        34716.0   \n",
              "4                         저는 삼겹살을 좋아합니다. 점심시간인데 점심은 드셧나요?       34716.0   \n",
              "...                                                   ...           ...   \n",
              "141184  아직 안갔습니다 10월 5일부터 10월14일까지 개최된다고 하여 저는 마지막날 가보...       32568.0   \n",
              "141185            피터 본 카트 입니다. 영화제가 부산말고도 종류가 많은 것 같더라구요        32568.0   \n",
              "141186  너무 많아서 하나하나 말씀드리가 어렵네요 ! 한번 찾아보시는걸 추천드려요 마음에 드...       32568.0   \n",
              "141187  저는 액션을 좋아합니다 긴장감이돌고 심장이 쫄깃해져서 집중을 몰두하는편이에요 !  ...       32568.0   \n",
              "141188  그러시군요 ! 영화는 주로 혼자보러 가시나요? 저는 가족들과 함께 보러가요 ! 이번...       32568.0   \n",
              "\n",
              "                                                    reply  \n",
              "0                             안녕하세요, 저도 30대 남성입니다. 반갑습니다.  \n",
              "1         선박정비원이라니 멋지시네요. 저는 군사학과를 전공하고 지금 직업을 구하는 중입니다.   \n",
              "2       주로 군인이 많이 되는데요, 특수 보직을 맡아 가기도 합니다. <u>저는 운전하는 ...  \n",
              "3       그렇군요. 반갑습니다. 저도 하는일이 힘들긴 하지만 가끔 만족스럽습니다.<u>혹시 ...  \n",
              "4       네, 그렇게 좋아하는 토마토 파스타를 먹었네요. 요즘 일교차가 커서 그런지 감기 환...  \n",
              "...                                                   ...  \n",
              "141184          저는 예매를 하지 않아서 이번에도 못갈것 같습니다. 어떤 영화예매하셨나요?  \n",
              "141185                            오 어디있나요? 저는 부산밖에 알지못하네요  \n",
              "141186  저는 보고나서 여운이 남는 영화는 별로 안 좋아해요. 코미디나 해피엔딩으로 끝나는 ...  \n",
              "141187  저는 정해진 주기로는 안가고 관심있는 영화가 있을때만 갑니다. 주로 OTT로 영화보...  \n",
              "141188            저는 엄마랑 보러가거나 혼자영화보는것을 좋아해요. 다음에 또 대화해요!  \n",
              "\n",
              "[141189 rows x 6 columns]"
            ],
            "text/html": [
              "\n",
              "  <div id=\"df-4ea7bf59-f769-44b3-9add-a3c53cb99618\">\n",
              "    <div class=\"colab-df-container\">\n",
              "      <div>\n",
              "<style scoped>\n",
              "    .dataframe tbody tr th:only-of-type {\n",
              "        vertical-align: middle;\n",
              "    }\n",
              "\n",
              "    .dataframe tbody tr th {\n",
              "        vertical-align: top;\n",
              "    }\n",
              "\n",
              "    .dataframe thead th {\n",
              "        text-align: right;\n",
              "    }\n",
              "</style>\n",
              "<table border=\"1\" class=\"dataframe\">\n",
              "  <thead>\n",
              "    <tr style=\"text-align: right;\">\n",
              "      <th></th>\n",
              "      <th>type</th>\n",
              "      <th>sess_id</th>\n",
              "      <th>speaker_1_id</th>\n",
              "      <th>query</th>\n",
              "      <th>speaker_2_id</th>\n",
              "      <th>reply</th>\n",
              "    </tr>\n",
              "  </thead>\n",
              "  <tbody>\n",
              "    <tr>\n",
              "      <th>0</th>\n",
              "      <td>train</td>\n",
              "      <td>2-42648-1</td>\n",
              "      <td>30284.0</td>\n",
              "      <td>안녕하세요. 저는 30대 남성입니다.</td>\n",
              "      <td>34716.0</td>\n",
              "      <td>안녕하세요, 저도 30대 남성입니다. 반갑습니다.</td>\n",
              "    </tr>\n",
              "    <tr>\n",
              "      <th>1</th>\n",
              "      <td>train</td>\n",
              "      <td>2-42648-1</td>\n",
              "      <td>30284.0</td>\n",
              "      <td>반가워요 저는 선박정비원으로 일하고있습니다. 혹시 직업이 어떻게되시나요?</td>\n",
              "      <td>34716.0</td>\n",
              "      <td>선박정비원이라니 멋지시네요. 저는 군사학과를 전공하고 지금 직업을 구하는 중입니다.</td>\n",
              "    </tr>\n",
              "    <tr>\n",
              "      <th>2</th>\n",
              "      <td>train</td>\n",
              "      <td>2-42648-1</td>\n",
              "      <td>30284.0</td>\n",
              "      <td>군사학과는 주로 무슨 직업으로 가는건가요?</td>\n",
              "      <td>34716.0</td>\n",
              "      <td>주로 군인이 많이 되는데요, 특수 보직을 맡아 가기도 합니다. &lt;u&gt;저는 운전하는 ...</td>\n",
              "    </tr>\n",
              "    <tr>\n",
              "      <th>3</th>\n",
              "      <td>train</td>\n",
              "      <td>2-42648-1</td>\n",
              "      <td>30284.0</td>\n",
              "      <td>저는 군대 때 운전병으로 나왔는데 운전 보직 좋은 것 같아요.</td>\n",
              "      <td>34716.0</td>\n",
              "      <td>그렇군요. 반갑습니다. 저도 하는일이 힘들긴 하지만 가끔 만족스럽습니다.&lt;u&gt;혹시 ...</td>\n",
              "    </tr>\n",
              "    <tr>\n",
              "      <th>4</th>\n",
              "      <td>train</td>\n",
              "      <td>2-42648-1</td>\n",
              "      <td>30284.0</td>\n",
              "      <td>저는 삼겹살을 좋아합니다. 점심시간인데 점심은 드셧나요?</td>\n",
              "      <td>34716.0</td>\n",
              "      <td>네, 그렇게 좋아하는 토마토 파스타를 먹었네요. 요즘 일교차가 커서 그런지 감기 환...</td>\n",
              "    </tr>\n",
              "    <tr>\n",
              "      <th>...</th>\n",
              "      <td>...</td>\n",
              "      <td>...</td>\n",
              "      <td>...</td>\n",
              "      <td>...</td>\n",
              "      <td>...</td>\n",
              "      <td>...</td>\n",
              "    </tr>\n",
              "    <tr>\n",
              "      <th>141184</th>\n",
              "      <td>train</td>\n",
              "      <td>2-17419-2</td>\n",
              "      <td>11285.0</td>\n",
              "      <td>아직 안갔습니다 10월 5일부터 10월14일까지 개최된다고 하여 저는 마지막날 가보...</td>\n",
              "      <td>32568.0</td>\n",
              "      <td>저는 예매를 하지 않아서 이번에도 못갈것 같습니다. 어떤 영화예매하셨나요?</td>\n",
              "    </tr>\n",
              "    <tr>\n",
              "      <th>141185</th>\n",
              "      <td>train</td>\n",
              "      <td>2-17419-2</td>\n",
              "      <td>11285.0</td>\n",
              "      <td>피터 본 카트 입니다. 영화제가 부산말고도 종류가 많은 것 같더라구요</td>\n",
              "      <td>32568.0</td>\n",
              "      <td>오 어디있나요? 저는 부산밖에 알지못하네요</td>\n",
              "    </tr>\n",
              "    <tr>\n",
              "      <th>141186</th>\n",
              "      <td>train</td>\n",
              "      <td>2-17419-2</td>\n",
              "      <td>11285.0</td>\n",
              "      <td>너무 많아서 하나하나 말씀드리가 어렵네요 ! 한번 찾아보시는걸 추천드려요 마음에 드...</td>\n",
              "      <td>32568.0</td>\n",
              "      <td>저는 보고나서 여운이 남는 영화는 별로 안 좋아해요. 코미디나 해피엔딩으로 끝나는 ...</td>\n",
              "    </tr>\n",
              "    <tr>\n",
              "      <th>141187</th>\n",
              "      <td>train</td>\n",
              "      <td>2-17419-2</td>\n",
              "      <td>11285.0</td>\n",
              "      <td>저는 액션을 좋아합니다 긴장감이돌고 심장이 쫄깃해져서 집중을 몰두하는편이에요 !  ...</td>\n",
              "      <td>32568.0</td>\n",
              "      <td>저는 정해진 주기로는 안가고 관심있는 영화가 있을때만 갑니다. 주로 OTT로 영화보...</td>\n",
              "    </tr>\n",
              "    <tr>\n",
              "      <th>141188</th>\n",
              "      <td>train</td>\n",
              "      <td>2-17419-2</td>\n",
              "      <td>11285.0</td>\n",
              "      <td>그러시군요 ! 영화는 주로 혼자보러 가시나요? 저는 가족들과 함께 보러가요 ! 이번...</td>\n",
              "      <td>32568.0</td>\n",
              "      <td>저는 엄마랑 보러가거나 혼자영화보는것을 좋아해요. 다음에 또 대화해요!</td>\n",
              "    </tr>\n",
              "  </tbody>\n",
              "</table>\n",
              "<p>141189 rows × 6 columns</p>\n",
              "</div>\n",
              "      <button class=\"colab-df-convert\" onclick=\"convertToInteractive('df-4ea7bf59-f769-44b3-9add-a3c53cb99618')\"\n",
              "              title=\"Convert this dataframe to an interactive table.\"\n",
              "              style=\"display:none;\">\n",
              "        \n",
              "  <svg xmlns=\"http://www.w3.org/2000/svg\" height=\"24px\"viewBox=\"0 0 24 24\"\n",
              "       width=\"24px\">\n",
              "    <path d=\"M0 0h24v24H0V0z\" fill=\"none\"/>\n",
              "    <path d=\"M18.56 5.44l.94 2.06.94-2.06 2.06-.94-2.06-.94-.94-2.06-.94 2.06-2.06.94zm-11 1L8.5 8.5l.94-2.06 2.06-.94-2.06-.94L8.5 2.5l-.94 2.06-2.06.94zm10 10l.94 2.06.94-2.06 2.06-.94-2.06-.94-.94-2.06-.94 2.06-2.06.94z\"/><path d=\"M17.41 7.96l-1.37-1.37c-.4-.4-.92-.59-1.43-.59-.52 0-1.04.2-1.43.59L10.3 9.45l-7.72 7.72c-.78.78-.78 2.05 0 2.83L4 21.41c.39.39.9.59 1.41.59.51 0 1.02-.2 1.41-.59l7.78-7.78 2.81-2.81c.8-.78.8-2.07 0-2.86zM5.41 20L4 18.59l7.72-7.72 1.47 1.35L5.41 20z\"/>\n",
              "  </svg>\n",
              "      </button>\n",
              "      \n",
              "  <style>\n",
              "    .colab-df-container {\n",
              "      display:flex;\n",
              "      flex-wrap:wrap;\n",
              "      gap: 12px;\n",
              "    }\n",
              "\n",
              "    .colab-df-convert {\n",
              "      background-color: #E8F0FE;\n",
              "      border: none;\n",
              "      border-radius: 50%;\n",
              "      cursor: pointer;\n",
              "      display: none;\n",
              "      fill: #1967D2;\n",
              "      height: 32px;\n",
              "      padding: 0 0 0 0;\n",
              "      width: 32px;\n",
              "    }\n",
              "\n",
              "    .colab-df-convert:hover {\n",
              "      background-color: #E2EBFA;\n",
              "      box-shadow: 0px 1px 2px rgba(60, 64, 67, 0.3), 0px 1px 3px 1px rgba(60, 64, 67, 0.15);\n",
              "      fill: #174EA6;\n",
              "    }\n",
              "\n",
              "    [theme=dark] .colab-df-convert {\n",
              "      background-color: #3B4455;\n",
              "      fill: #D2E3FC;\n",
              "    }\n",
              "\n",
              "    [theme=dark] .colab-df-convert:hover {\n",
              "      background-color: #434B5C;\n",
              "      box-shadow: 0px 1px 3px 1px rgba(0, 0, 0, 0.15);\n",
              "      filter: drop-shadow(0px 1px 2px rgba(0, 0, 0, 0.3));\n",
              "      fill: #FFFFFF;\n",
              "    }\n",
              "  </style>\n",
              "\n",
              "      <script>\n",
              "        const buttonEl =\n",
              "          document.querySelector('#df-4ea7bf59-f769-44b3-9add-a3c53cb99618 button.colab-df-convert');\n",
              "        buttonEl.style.display =\n",
              "          google.colab.kernel.accessAllowed ? 'block' : 'none';\n",
              "\n",
              "        async function convertToInteractive(key) {\n",
              "          const element = document.querySelector('#df-4ea7bf59-f769-44b3-9add-a3c53cb99618');\n",
              "          const dataTable =\n",
              "            await google.colab.kernel.invokeFunction('convertToInteractive',\n",
              "                                                     [key], {});\n",
              "          if (!dataTable) return;\n",
              "\n",
              "          const docLinkHtml = 'Like what you see? Visit the ' +\n",
              "            '<a target=\"_blank\" href=https://colab.research.google.com/notebooks/data_table.ipynb>data table notebook</a>'\n",
              "            + ' to learn more about interactive tables.';\n",
              "          element.innerHTML = '';\n",
              "          dataTable['output_type'] = 'display_data';\n",
              "          await google.colab.output.renderOutput(dataTable, element);\n",
              "          const docLink = document.createElement('div');\n",
              "          docLink.innerHTML = docLinkHtml;\n",
              "          element.appendChild(docLink);\n",
              "        }\n",
              "      </script>\n",
              "    </div>\n",
              "  </div>\n",
              "  "
            ]
          },
          "metadata": {},
          "execution_count": 10
        }
      ]
    },
    {
      "cell_type": "code",
      "source": [
        "from keybert import KeyBERT\n",
        "\n",
        "def bert_keword(doc):\n",
        "    model = KeyBERT('distilbert-base-nli-mean-tokens')\n",
        "    keywords = model.extract_keywords(doc, stop_words=None)\n",
        "    return keywords"
      ],
      "metadata": {
        "id": "IURKF_LmYMhW"
      },
      "execution_count": 8,
      "outputs": []
    },
    {
      "cell_type": "code",
      "source": [
        "tmp = list(train_df.loc[:20]['query'])"
      ],
      "metadata": {
        "id": "o4RU-3x6DHNy"
      },
      "execution_count": 16,
      "outputs": []
    },
    {
      "cell_type": "code",
      "source": [
        "tmp"
      ],
      "metadata": {
        "colab": {
          "base_uri": "https://localhost:8080/"
        },
        "id": "vDhIJZabDHJ4",
        "outputId": "917e31c4-ce11-42bc-b4a8-be2071a365bc"
      },
      "execution_count": 17,
      "outputs": [
        {
          "output_type": "execute_result",
          "data": {
            "text/plain": [
              "['안녕하세요. 저는 30대 남성입니다.',\n",
              " '반가워요 저는 선박정비원으로 일하고있습니다. 혹시 직업이 어떻게되시나요?',\n",
              " '군사학과는 주로 무슨 직업으로 가는건가요?',\n",
              " '저는 군대 때 운전병으로 나왔는데 운전 보직 좋은 것 같아요. ',\n",
              " '저는 삼겹살을 좋아합니다. 점심시간인데 점심은 드셧나요?',\n",
              " '지금 환절기 시즌이라 감기조심해야해요. 얇게 여러개를 입어야 할 것 같아요.',\n",
              " '감기 조심 하셔야 해요. 한번 걸리면 한주가 너무 힘든것 같아요.',\n",
              " '어제 업무는 잘 해결하셨나요? 27시간만이네요. 저는 내일 아울렛을 놀러갈까해요',\n",
              " '맞아요. 님은 어떤 옷을 주로 입으시나요?',\n",
              " '저는 맨투맨이나 면티 또는 셔츠를 좋아해요. 깔끔하게 입는게 좋은거같더라구요',\n",
              " '아하 맞아요 친구들 따라 다니다보며는 저도 지쳐서 못다니겟더라구요.',\n",
              " '맞아요.저도 카페에서 조금 쉬다가 간다하구 보고오라고한적도있어요',\n",
              " '저도 신발을 좋아해서 최근에만 3켤래나 구매했네요.',\n",
              " '저는 요번에 운동화를 샀어요! 다이어트 떄문에 런닝화 위주로 샀습니다.',\n",
              " '안녕하세요? 저는 10대 남자입니다!',\n",
              " '반가워요 ㅎㅎ 저는 동생이 초등학생일만큼 아직 어립니다 ㅋㅋ',\n",
              " '그렇습니다 ㅎㅎ 그런데 저는 요즘 가끔 외롭습니다 ㅠㅠ 이유를 아시나요?',\n",
              " '제가 노래방에 가는게 괴로워서 그렇습니다.. 친구들은 좋아하거든요. 그래서 소외감 느끼는데 어쩌죠?',\n",
              " '저는 피자 즐겨 먹어요! 혹시 좋아하나요?',\n",
              " '정말요? 그러면 어떤 피자를 드셔보셨나요? 추천부탁드립니다 ㅎㅎ',\n",
              " '와 정말 맛있을것 같아요 ㄷㄷ 저는 카페는 안 좋은 추억이 있는게, 디스코 음악을 싫어하는데 나오더라고요..']"
            ]
          },
          "metadata": {},
          "execution_count": 17
        }
      ]
    },
    {
      "cell_type": "code",
      "source": [
        "from keybert import KeyBERT\n",
        "\n",
        "def bert_keword(doc):\n",
        "    model = KeyBERT('distilbert-base-nli-mean-tokens')\n",
        "    keywords = model.extract_keywords(doc, stop_words=None)\n",
        "    return keywords"
      ],
      "metadata": {
        "id": "elQCdmPfYyXd"
      },
      "execution_count": 18,
      "outputs": []
    },
    {
      "cell_type": "code",
      "source": [
        "data_lst = []\n",
        "for i in tqdm(tmp):\n",
        "    print(bert_keword(i))\n"
      ],
      "metadata": {
        "colab": {
          "base_uri": "https://localhost:8080/"
        },
        "id": "RCcDugxN_xbs",
        "outputId": "e1a2e773-6e27-46ca-b33b-f68ba18ae960"
      },
      "execution_count": 21,
      "outputs": [
        {
          "output_type": "stream",
          "name": "stderr",
          "text": [
            "  5%|▍         | 1/21 [00:00<00:13,  1.45it/s]"
          ]
        },
        {
          "output_type": "stream",
          "name": "stdout",
          "text": [
            "[('안녕하세요', 0.8835), ('남성입니다', 0.8823), ('저는', 0.7388), ('30대', 0.6597)]\n"
          ]
        },
        {
          "output_type": "stream",
          "name": "stderr",
          "text": [
            "\r 10%|▉         | 2/21 [00:01<00:13,  1.43it/s]"
          ]
        },
        {
          "output_type": "stream",
          "name": "stdout",
          "text": [
            "[('선박정비원으로', 0.946), ('반가워요', 0.8707), ('직업이', 0.8176), ('혹시', 0.7459), ('저는', 0.7413)]\n"
          ]
        },
        {
          "output_type": "stream",
          "name": "stderr",
          "text": [
            "\r 14%|█▍        | 3/21 [00:02<00:15,  1.16it/s]"
          ]
        },
        {
          "output_type": "stream",
          "name": "stdout",
          "text": [
            "[('군사학과는', 0.9328), ('가는건가요', 0.8869), ('직업으로', 0.854), ('무슨', 0.7398), ('주로', 0.7049)]\n"
          ]
        },
        {
          "output_type": "stream",
          "name": "stderr",
          "text": [
            "\r 19%|█▉        | 4/21 [00:03<00:16,  1.06it/s]"
          ]
        },
        {
          "output_type": "stream",
          "name": "stdout",
          "text": [
            "[('운전병으로', 0.9328), ('운전', 0.8308), ('저는', 0.8126), ('보직', 0.8091), ('군대', 0.8089)]\n"
          ]
        },
        {
          "output_type": "stream",
          "name": "stderr",
          "text": [
            "\r 24%|██▍       | 5/21 [00:04<00:15,  1.02it/s]"
          ]
        },
        {
          "output_type": "stream",
          "name": "stdout",
          "text": [
            "[('점심시간인데', 0.936), ('삼겹살을', 0.8793), ('점심은', 0.8681), ('저는', 0.7733), ('드셧나요', 0.2427)]\n"
          ]
        },
        {
          "output_type": "stream",
          "name": "stderr",
          "text": [
            "\r 29%|██▊       | 6/21 [00:05<00:13,  1.13it/s]"
          ]
        },
        {
          "output_type": "stream",
          "name": "stdout",
          "text": [
            "[('환절기', 0.9136), ('시즌이라', 0.8799), ('여러개를', 0.8647), ('지금', 0.8047), ('입어야', 0.3036)]\n"
          ]
        },
        {
          "output_type": "stream",
          "name": "stderr",
          "text": [
            "\r 33%|███▎      | 7/21 [00:05<00:11,  1.22it/s]"
          ]
        },
        {
          "output_type": "stream",
          "name": "stdout",
          "text": [
            "[('한주가', 0.8587), ('걸리면', 0.8358), ('한번', 0.8032), ('조심', 0.7718), ('감기', 0.7575)]\n"
          ]
        },
        {
          "output_type": "stream",
          "name": "stderr",
          "text": [
            "\r 38%|███▊      | 8/21 [00:06<00:10,  1.28it/s]"
          ]
        },
        {
          "output_type": "stream",
          "name": "stdout",
          "text": [
            "[('27시간만이네요', 0.913), ('업무는', 0.8378), ('저는', 0.776), ('어제', 0.6987), ('내일', 0.6902)]\n"
          ]
        },
        {
          "output_type": "stream",
          "name": "stderr",
          "text": [
            "\r 43%|████▎     | 9/21 [00:07<00:09,  1.30it/s]"
          ]
        },
        {
          "output_type": "stream",
          "name": "stdout",
          "text": [
            "[('입으시나요', 0.9086), ('님은', 0.8589), ('주로', 0.7989), ('옷을', 0.4352), ('어떤', 0.4352)]\n"
          ]
        },
        {
          "output_type": "stream",
          "name": "stderr",
          "text": [
            "\r 48%|████▊     | 10/21 [00:08<00:08,  1.33it/s]"
          ]
        },
        {
          "output_type": "stream",
          "name": "stdout",
          "text": [
            "[('맨투맨이나', 0.9066), ('입는게', 0.8503), ('면티', 0.7801), ('셔츠를', 0.7798), ('저는', 0.7661)]\n"
          ]
        },
        {
          "output_type": "stream",
          "name": "stderr",
          "text": [
            "\r 52%|█████▏    | 11/21 [00:08<00:07,  1.36it/s]"
          ]
        },
        {
          "output_type": "stream",
          "name": "stdout",
          "text": [
            "[('다니다보며는', 0.9219), ('친구들', 0.8327), ('지쳐서', 0.788), ('저도', 0.7566), ('아하', 0.6831)]\n"
          ]
        },
        {
          "output_type": "stream",
          "name": "stderr",
          "text": [
            "\r 57%|█████▋    | 12/21 [00:09<00:06,  1.32it/s]"
          ]
        },
        {
          "output_type": "stream",
          "name": "stdout",
          "text": [
            "[('간다하구', 0.8858), ('카페에서', 0.8623), ('저도', 0.8325), ('조금', 0.813), ('쉬다가', 0.2913)]\n"
          ]
        },
        {
          "output_type": "stream",
          "name": "stderr",
          "text": [
            "\r 62%|██████▏   | 13/21 [00:10<00:05,  1.34it/s]"
          ]
        },
        {
          "output_type": "stream",
          "name": "stdout",
          "text": [
            "[('3켤래나', 0.8972), ('신발을', 0.8081), ('저도', 0.7465), ('최근에만', 0.2649), ('좋아해서', 0.2649)]\n"
          ]
        },
        {
          "output_type": "stream",
          "name": "stderr",
          "text": [
            "\r 67%|██████▋   | 14/21 [00:11<00:05,  1.37it/s]"
          ]
        },
        {
          "output_type": "stream",
          "name": "stdout",
          "text": [
            "[('운동화를', 0.8791), ('런닝화', 0.8724), ('요번에', 0.8234), ('다이어트', 0.8108), ('저는', 0.7762)]\n"
          ]
        },
        {
          "output_type": "stream",
          "name": "stderr",
          "text": [
            "\r 71%|███████▏  | 15/21 [00:11<00:04,  1.38it/s]"
          ]
        },
        {
          "output_type": "stream",
          "name": "stdout",
          "text": [
            "[('안녕하세요', 0.844), ('남자입니다', 0.8238), ('저는', 0.7318), ('10대', 0.7202)]\n"
          ]
        },
        {
          "output_type": "stream",
          "name": "stderr",
          "text": [
            "\r 76%|███████▌  | 16/21 [00:12<00:03,  1.38it/s]"
          ]
        },
        {
          "output_type": "stream",
          "name": "stdout",
          "text": [
            "[('초등학생일만큼', 0.9288), ('반가워요', 0.855), ('어립니다', 0.8248), ('동생이', 0.7657), ('아직', 0.7271)]\n"
          ]
        },
        {
          "output_type": "stream",
          "name": "stderr",
          "text": [
            "\r 81%|████████  | 17/21 [00:13<00:02,  1.39it/s]"
          ]
        },
        {
          "output_type": "stream",
          "name": "stdout",
          "text": [
            "[('아시나요', 0.8503), ('그런데', 0.8362), ('이유를', 0.8046), ('저는', 0.8028), ('요즘', 0.7816)]\n"
          ]
        },
        {
          "output_type": "stream",
          "name": "stderr",
          "text": [
            "\r 86%|████████▌ | 18/21 [00:13<00:02,  1.40it/s]"
          ]
        },
        {
          "output_type": "stream",
          "name": "stdout",
          "text": [
            "[('노래방에', 0.8793), ('친구들은', 0.8656), ('가는게', 0.8457), ('그래서', 0.7907), ('제가', 0.769)]\n"
          ]
        },
        {
          "output_type": "stream",
          "name": "stderr",
          "text": [
            "\r 90%|█████████ | 19/21 [00:14<00:01,  1.40it/s]"
          ]
        },
        {
          "output_type": "stream",
          "name": "stdout",
          "text": [
            "[('먹어요', 0.8123), ('즐겨', 0.7979), ('저는', 0.7966), ('혹시', 0.7896), ('피자', 0.7508)]\n"
          ]
        },
        {
          "output_type": "stream",
          "name": "stderr",
          "text": [
            "\r 95%|█████████▌| 20/21 [00:15<00:00,  1.40it/s]"
          ]
        },
        {
          "output_type": "stream",
          "name": "stdout",
          "text": [
            "[('추천부탁드립니다', 0.9501), ('정말요', 0.8397), ('피자를', 0.8084), ('그러면', 0.7952), ('어떤', 0.2105)]\n"
          ]
        },
        {
          "output_type": "stream",
          "name": "stderr",
          "text": [
            "100%|██████████| 21/21 [00:16<00:00,  1.31it/s]"
          ]
        },
        {
          "output_type": "stream",
          "name": "stdout",
          "text": [
            "[('나오더라고요', 0.8521), ('카페는', 0.7999), ('디스코', 0.7993), ('음악을', 0.7794), ('정말', 0.7643)]\n"
          ]
        },
        {
          "output_type": "stream",
          "name": "stderr",
          "text": [
            "\n"
          ]
        }
      ]
    },
    {
      "cell_type": "code",
      "source": [
        "query_lst = list(train_df['query'])"
      ],
      "metadata": {
        "id": "mQ-zvcB4D6Mw"
      },
      "execution_count": 27,
      "outputs": []
    },
    {
      "cell_type": "code",
      "source": [
        "query_keword = [] \n",
        "\n",
        "for i in tqdm(query_lst):\n",
        "    x = bert_keword(i)\n",
        "    query_lst.append(x)"
      ],
      "metadata": {
        "colab": {
          "base_uri": "https://localhost:8080/"
        },
        "id": "y5z0JvS3EjVt",
        "outputId": "9c9c34a5-b322-4192-9faf-a7609d5876ab"
      },
      "execution_count": null,
      "outputs": [
        {
          "output_type": "stream",
          "name": "stderr",
          "text": [
            "  8%|▊         | 11800/141189 [2:20:36<24:59:38,  1.44it/s]"
          ]
        }
      ]
    },
    {
      "cell_type": "code",
      "source": [],
      "metadata": {
        "id": "kCMbjTa7EnJW"
      },
      "execution_count": null,
      "outputs": []
    }
  ]
}